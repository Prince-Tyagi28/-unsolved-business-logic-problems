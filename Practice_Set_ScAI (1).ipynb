{
 "cells": [
  {
   "cell_type": "markdown",
   "id": "ee5791d8",
   "metadata": {},
   "source": [
    "# Practice Set by School of Core AI\n",
    "\n",
    "This notebook contains unsolved business logic problems with sample inputs and expected outputs."
   ]
  },
  {
   "cell_type": "markdown",
   "id": "e82d36bc",
   "metadata": {},
   "source": [
    "## Inventory Price Calculator (Max Data Type Usage)"
   ]
  },
  {
   "cell_type": "markdown",
   "id": "b5b6bfbc",
   "metadata": {},
   "source": [
    "Calculate the total value of inventory by item type and currency, while removing duplicate SKUs.\n",
    "\n",
    "Data:\n",
    "- A list of dictionaries containing SKU, type, price, currency, and in_stock flag.\n",
    "- A dictionary of currency conversion rates (e.g., USD to INR).\n",
    "\n",
    "Tasks:\n",
    "- Remove duplicate SKUs.\n",
    "- Convert all prices to INR.\n",
    "- Calculate total value of in-stock items per item type.\n",
    "\n",
    "Sample Input:\n",
    "inventory = [\n",
    "    {\"sku\": \"A101\", \"type\": \"Electronics\", \"price\": 1200.50, \"currency\": \"USD\", \"in_stock\": True},\n",
    "    {\"sku\": \"A101\", \"type\": \"Electronics\", \"price\": 1200.50, \"currency\": \"USD\", \"in_stock\": True},  # duplicate\n",
    "    {\"sku\": \"B202\", \"type\": \"Furniture\", \"price\": 8000, \"currency\": \"INR\", \"in_stock\": False},\n",
    "    {\"sku\": \"C303\", \"type\": \"Electronics\", \"price\": 1000, \"currency\": \"USD\", \"in_stock\": True},\n",
    "]\n",
    "\n",
    "conversion = {(\"USD\", \"INR\"): 83.5}\n",
    "\n",
    "Expected Output:\n",
    "{'Electronics': 183367.75}"
   ]
  },
  {
   "cell_type": "code",
   "execution_count": 53,
   "id": "dde572e5",
   "metadata": {},
   "outputs": [
    {
     "data": {
      "text/html": [
       "<div>\n",
       "<style scoped>\n",
       "    .dataframe tbody tr th:only-of-type {\n",
       "        vertical-align: middle;\n",
       "    }\n",
       "\n",
       "    .dataframe tbody tr th {\n",
       "        vertical-align: top;\n",
       "    }\n",
       "\n",
       "    .dataframe thead th {\n",
       "        text-align: right;\n",
       "    }\n",
       "</style>\n",
       "<table border=\"1\" class=\"dataframe\">\n",
       "  <thead>\n",
       "    <tr style=\"text-align: right;\">\n",
       "      <th></th>\n",
       "      <th>sku</th>\n",
       "      <th>type</th>\n",
       "      <th>price</th>\n",
       "      <th>currency</th>\n",
       "      <th>in_stock</th>\n",
       "    </tr>\n",
       "  </thead>\n",
       "  <tbody>\n",
       "    <tr>\n",
       "      <th>0</th>\n",
       "      <td>A101</td>\n",
       "      <td>Electronics</td>\n",
       "      <td>1200.5</td>\n",
       "      <td>USD</td>\n",
       "      <td>True</td>\n",
       "    </tr>\n",
       "    <tr>\n",
       "      <th>1</th>\n",
       "      <td>A101</td>\n",
       "      <td>Electronics</td>\n",
       "      <td>1200.5</td>\n",
       "      <td>USD</td>\n",
       "      <td>True</td>\n",
       "    </tr>\n",
       "    <tr>\n",
       "      <th>2</th>\n",
       "      <td>B202</td>\n",
       "      <td>Furniture</td>\n",
       "      <td>8000.0</td>\n",
       "      <td>INR</td>\n",
       "      <td>False</td>\n",
       "    </tr>\n",
       "    <tr>\n",
       "      <th>3</th>\n",
       "      <td>C303</td>\n",
       "      <td>Electronics</td>\n",
       "      <td>1000.0</td>\n",
       "      <td>USD</td>\n",
       "      <td>True</td>\n",
       "    </tr>\n",
       "  </tbody>\n",
       "</table>\n",
       "</div>"
      ],
      "text/plain": [
       "    sku         type   price currency  in_stock\n",
       "0  A101  Electronics  1200.5      USD      True\n",
       "1  A101  Electronics  1200.5      USD      True\n",
       "2  B202    Furniture  8000.0      INR     False\n",
       "3  C303  Electronics  1000.0      USD      True"
      ]
     },
     "execution_count": 53,
     "metadata": {},
     "output_type": "execute_result"
    }
   ],
   "source": [
    "# Your code here\n",
    "inventory = [ {\"sku\": \"A101\", \"type\": \"Electronics\", \"price\": 1200.50, \"currency\": \"USD\", \"in_stock\": True},\n",
    "             {\"sku\": \"A101\", \"type\": \"Electronics\", \"price\": 1200.50, \"currency\": \"USD\", \"in_stock\": True}, \n",
    "             {\"sku\": \"B202\", \"type\": \"Furniture\", \"price\": 8000, \"currency\": \"INR\", \"in_stock\": False},\n",
    "             {\"sku\": \"C303\", \"type\": \"Electronics\", \"price\": 1000, \"currency\": \"USD\", \"in_stock\": True}, ]\n",
    "import pandas as pd\n",
    "import numpy as np\n",
    "\n",
    "df = pd.DataFrame(inventory)\n",
    "df"
   ]
  },
  {
   "cell_type": "code",
   "execution_count": 14,
   "id": "bb68bb99-9547-4e92-9f96-db1242240229",
   "metadata": {},
   "outputs": [],
   "source": [
    "# Remove duplicate SKUs.\n",
    "df = df.drop_duplicates(subset=[\"sku\"])"
   ]
  },
  {
   "cell_type": "code",
   "execution_count": 16,
   "id": "e879b681-f060-4110-90fb-e0be9431470f",
   "metadata": {},
   "outputs": [
    {
     "data": {
      "text/html": [
       "<div>\n",
       "<style scoped>\n",
       "    .dataframe tbody tr th:only-of-type {\n",
       "        vertical-align: middle;\n",
       "    }\n",
       "\n",
       "    .dataframe tbody tr th {\n",
       "        vertical-align: top;\n",
       "    }\n",
       "\n",
       "    .dataframe thead th {\n",
       "        text-align: right;\n",
       "    }\n",
       "</style>\n",
       "<table border=\"1\" class=\"dataframe\">\n",
       "  <thead>\n",
       "    <tr style=\"text-align: right;\">\n",
       "      <th></th>\n",
       "      <th>sku</th>\n",
       "      <th>type</th>\n",
       "      <th>price</th>\n",
       "      <th>currency</th>\n",
       "      <th>in_stock</th>\n",
       "    </tr>\n",
       "  </thead>\n",
       "  <tbody>\n",
       "    <tr>\n",
       "      <th>0</th>\n",
       "      <td>A101</td>\n",
       "      <td>Electronics</td>\n",
       "      <td>1200.5</td>\n",
       "      <td>USD</td>\n",
       "      <td>True</td>\n",
       "    </tr>\n",
       "    <tr>\n",
       "      <th>2</th>\n",
       "      <td>B202</td>\n",
       "      <td>Furniture</td>\n",
       "      <td>8000.0</td>\n",
       "      <td>INR</td>\n",
       "      <td>False</td>\n",
       "    </tr>\n",
       "    <tr>\n",
       "      <th>3</th>\n",
       "      <td>C303</td>\n",
       "      <td>Electronics</td>\n",
       "      <td>1000.0</td>\n",
       "      <td>USD</td>\n",
       "      <td>True</td>\n",
       "    </tr>\n",
       "  </tbody>\n",
       "</table>\n",
       "</div>"
      ],
      "text/plain": [
       "    sku         type   price currency  in_stock\n",
       "0  A101  Electronics  1200.5      USD      True\n",
       "2  B202    Furniture  8000.0      INR     False\n",
       "3  C303  Electronics  1000.0      USD      True"
      ]
     },
     "execution_count": 16,
     "metadata": {},
     "output_type": "execute_result"
    }
   ],
   "source": [
    "df"
   ]
  },
  {
   "cell_type": "code",
   "execution_count": 18,
   "id": "e959b3ea-044c-46fc-ade2-dcc6d2d6216e",
   "metadata": {},
   "outputs": [
    {
     "name": "stderr",
     "output_type": "stream",
     "text": [
      "C:\\Users\\hp\\AppData\\Local\\Temp\\ipykernel_7544\\1800298840.py:4: SettingWithCopyWarning: \n",
      "A value is trying to be set on a copy of a slice from a DataFrame.\n",
      "Try using .loc[row_indexer,col_indexer] = value instead\n",
      "\n",
      "See the caveats in the documentation: https://pandas.pydata.org/pandas-docs/stable/user_guide/indexing.html#returning-a-view-versus-a-copy\n",
      "  df[\"price\"] = df[\"price\"]*df[\"currency\"].map(conversion)\n",
      "C:\\Users\\hp\\AppData\\Local\\Temp\\ipykernel_7544\\1800298840.py:5: SettingWithCopyWarning: \n",
      "A value is trying to be set on a copy of a slice from a DataFrame.\n",
      "Try using .loc[row_indexer,col_indexer] = value instead\n",
      "\n",
      "See the caveats in the documentation: https://pandas.pydata.org/pandas-docs/stable/user_guide/indexing.html#returning-a-view-versus-a-copy\n",
      "  df[\"currency\"] = \"INR\"\n"
     ]
    },
    {
     "data": {
      "text/html": [
       "<div>\n",
       "<style scoped>\n",
       "    .dataframe tbody tr th:only-of-type {\n",
       "        vertical-align: middle;\n",
       "    }\n",
       "\n",
       "    .dataframe tbody tr th {\n",
       "        vertical-align: top;\n",
       "    }\n",
       "\n",
       "    .dataframe thead th {\n",
       "        text-align: right;\n",
       "    }\n",
       "</style>\n",
       "<table border=\"1\" class=\"dataframe\">\n",
       "  <thead>\n",
       "    <tr style=\"text-align: right;\">\n",
       "      <th></th>\n",
       "      <th>sku</th>\n",
       "      <th>type</th>\n",
       "      <th>price</th>\n",
       "      <th>currency</th>\n",
       "      <th>in_stock</th>\n",
       "    </tr>\n",
       "  </thead>\n",
       "  <tbody>\n",
       "    <tr>\n",
       "      <th>0</th>\n",
       "      <td>A101</td>\n",
       "      <td>Electronics</td>\n",
       "      <td>99641.5</td>\n",
       "      <td>INR</td>\n",
       "      <td>True</td>\n",
       "    </tr>\n",
       "    <tr>\n",
       "      <th>2</th>\n",
       "      <td>B202</td>\n",
       "      <td>Furniture</td>\n",
       "      <td>8000.0</td>\n",
       "      <td>INR</td>\n",
       "      <td>False</td>\n",
       "    </tr>\n",
       "    <tr>\n",
       "      <th>3</th>\n",
       "      <td>C303</td>\n",
       "      <td>Electronics</td>\n",
       "      <td>83000.0</td>\n",
       "      <td>INR</td>\n",
       "      <td>True</td>\n",
       "    </tr>\n",
       "  </tbody>\n",
       "</table>\n",
       "</div>"
      ],
      "text/plain": [
       "    sku         type    price currency  in_stock\n",
       "0  A101  Electronics  99641.5      INR      True\n",
       "2  B202    Furniture   8000.0      INR     False\n",
       "3  C303  Electronics  83000.0      INR      True"
      ]
     },
     "execution_count": 18,
     "metadata": {},
     "output_type": "execute_result"
    }
   ],
   "source": [
    "# Convert all prices to INR.\n",
    "conversion = {\"USD\":83, \"INR\": 1}\n",
    "\n",
    "df[\"price\"] = df[\"price\"]*df[\"currency\"].map(conversion)\n",
    "df[\"currency\"] = \"INR\"\n",
    "\n",
    "df"
   ]
  },
  {
   "cell_type": "code",
   "execution_count": 22,
   "id": "022e496b-007f-4d9c-99c3-58c138e42886",
   "metadata": {},
   "outputs": [
    {
     "name": "stdout",
     "output_type": "stream",
     "text": [
      "{'Electronics': 182641.5, 'Furniture': 8000.0}\n"
     ]
    }
   ],
   "source": [
    "# Calculate total value of in-stock items per item type.\n",
    "\n",
    "result = df.groupby('type')['price'].sum().to_dict()\n",
    "print(result)"
   ]
  },
  {
   "cell_type": "markdown",
   "id": "e6472c54",
   "metadata": {},
   "source": [
    "## Student Result Generator (Max Data Type Coverage)"
   ]
  },
  {
   "cell_type": "markdown",
   "id": "f831a067",
   "metadata": {},
   "source": [
    "Generate student grades and pass/fail report based on subject marks.\n",
    "\n",
    "Data:\n",
    "- A dictionary with student names as keys and a list of (subject, marks) tuples.\n",
    "\n",
    "Tasks:\n",
    "- Calculate average marks for each student.\n",
    "- Determine pass/fail status (pass if avg >= 60).\n",
    "- Track failed subjects using a set.\n",
    "\n",
    "Sample Input:\n",
    "students = {\n",
    "    \"John\": [(\"Math\", 88), (\"English\", 75), (\"Science\", 91)],\n",
    "    \"Sara\": [(\"Math\", 45), (\"English\", 56), (\"Science\", 60)],\n",
    "}\n",
    "\n",
    "Expected Output:\n",
    "{\n",
    "    'John': {'avg': 84.67, 'status': 'Pass', 'failed_subjects': set()},\n",
    "    'Sara': {'avg': 53.67, 'status': 'Fail', 'failed_subjects': {'Math', 'English'}}\n",
    "}"
   ]
  },
  {
   "cell_type": "code",
   "execution_count": 28,
   "id": "ce7493e3",
   "metadata": {},
   "outputs": [
    {
     "data": {
      "text/html": [
       "<div>\n",
       "<style scoped>\n",
       "    .dataframe tbody tr th:only-of-type {\n",
       "        vertical-align: middle;\n",
       "    }\n",
       "\n",
       "    .dataframe tbody tr th {\n",
       "        vertical-align: top;\n",
       "    }\n",
       "\n",
       "    .dataframe thead th {\n",
       "        text-align: right;\n",
       "    }\n",
       "</style>\n",
       "<table border=\"1\" class=\"dataframe\">\n",
       "  <thead>\n",
       "    <tr style=\"text-align: right;\">\n",
       "      <th></th>\n",
       "      <th>John</th>\n",
       "      <th>Sara</th>\n",
       "    </tr>\n",
       "  </thead>\n",
       "  <tbody>\n",
       "    <tr>\n",
       "      <th>0</th>\n",
       "      <td>(Math, 88)</td>\n",
       "      <td>(Math, 45)</td>\n",
       "    </tr>\n",
       "    <tr>\n",
       "      <th>1</th>\n",
       "      <td>(English, 75)</td>\n",
       "      <td>(English, 56)</td>\n",
       "    </tr>\n",
       "    <tr>\n",
       "      <th>2</th>\n",
       "      <td>(Science, 91)</td>\n",
       "      <td>(Science, 60)</td>\n",
       "    </tr>\n",
       "  </tbody>\n",
       "</table>\n",
       "</div>"
      ],
      "text/plain": [
       "            John           Sara\n",
       "0     (Math, 88)     (Math, 45)\n",
       "1  (English, 75)  (English, 56)\n",
       "2  (Science, 91)  (Science, 60)"
      ]
     },
     "execution_count": 28,
     "metadata": {},
     "output_type": "execute_result"
    }
   ],
   "source": [
    "# Your code here\n",
    "students = { \"John\": [(\"Math\", 88), (\"English\", 75), (\"Science\", 91)], \n",
    "            \"Sara\": [(\"Math\", 45), (\"English\", 56), (\"Science\", 60)], }\n",
    "data = pd.DataFrame(students)\n",
    "data"
   ]
  },
  {
   "cell_type": "code",
   "execution_count": 36,
   "id": "379ce287-7fee-4790-9ad0-7ec74a190af7",
   "metadata": {},
   "outputs": [
    {
     "name": "stdout",
     "output_type": "stream",
     "text": [
      "{'John': {'avg': 84.67, 'status': 'Pass', 'failed': set()}, 'Sara': {'avg': 53.67, 'status': 'Fail', 'failed': {'English', 'Math'}}}\n"
     ]
    }
   ],
   "source": [
    "# Calculate average marks for each student.\n",
    "\n",
    "result = {}\n",
    "\n",
    "for i,j in students.items():\n",
    "    total = 0\n",
    "    failed = set()\n",
    "\n",
    "    for subject , mark in j:\n",
    "        total+= mark\n",
    "        if mark <60:\n",
    "            failed.add(subject)\n",
    "    avg = round(total/len(j),2)\n",
    "    status = \"Pass\" if not failed else \"Fail\"\n",
    "\n",
    "    result[i] = {'avg':avg,'status':status,'failed':failed}\n",
    "\n",
    "print(result)"
   ]
  },
  {
   "cell_type": "markdown",
   "id": "a4bfcf16",
   "metadata": {},
   "source": [
    "## Product Review Analyzer"
   ]
  },
  {
   "cell_type": "markdown",
   "id": "55bcc106",
   "metadata": {},
   "source": [
    "Analyze product reviews to identify top recurring keywords.\n",
    "\n",
    "Data:\n",
    "- A list of review strings.\n",
    "\n",
    "Tasks:\n",
    "- Count the frequency of words across reviews.\n",
    "- Remove common stop words (e.g., \"and\", \"but\").\n",
    "- Return the top 3 frequent words.\n",
    "\n",
    "Sample Input:\n",
    "reviews = [\n",
    "    \"Great build and great battery life\",\n",
    "    \"Average battery but great sound\",\n",
    "    \"Great product, great value\"\n",
    "]\n",
    "\n",
    "Expected Output:\n",
    "['great', 'battery', 'build']"
   ]
  },
  {
   "cell_type": "code",
   "execution_count": 50,
   "id": "d76d3087",
   "metadata": {},
   "outputs": [
    {
     "name": "stdout",
     "output_type": "stream",
     "text": [
      "['great', 'battery', 'build']\n"
     ]
    }
   ],
   "source": [
    "# Your code here\n",
    "reviews = [\"Great build and great battery life\",\"Average battery but great sound\",\"Great product,great value\"]\n",
    "text = \" \".join(reviews).lower()\n",
    "words = text.split()\n",
    "stop_words = {\"and\" , \"but\"}\n",
    "filter_word = []\n",
    "for i in words:\n",
    "    if i not in stop_words:\n",
    "        filter_word.append(i)\n",
    "        \n",
    "freq = {}\n",
    "for i in filter_word:\n",
    "    freq[i] = freq.get(i, 0) + 1\n",
    "\n",
    "top_words = sorted(freq.items() , key=lambda x: x[1],reverse=True)[:3]\n",
    "\n",
    "result = []\n",
    "for items in top_words:\n",
    "    i = items[0]\n",
    "    result.append(i)\n",
    "\n",
    "print(result)"
   ]
  },
  {
   "cell_type": "markdown",
   "id": "030cd1be",
   "metadata": {},
   "source": [
    "## Salary Hike Simulation"
   ]
  },
  {
   "cell_type": "markdown",
   "id": "d577f9e8",
   "metadata": {},
   "source": [
    "Apply salary hikes based on designation rules and generate updated salary report.\n",
    "\n",
    "Data:\n",
    "- A dictionary with employee details including role and salary.\n",
    "- A dictionary of hike rules by role.\n",
    "\n",
    "Tasks:\n",
    "- Apply the hike to each employee.\n",
    "- Return updated salaries.\n",
    "- Filter out employees who have less than ₹70,000 after the hike.\n",
    "\n",
    "Sample Input:\n",
    "employees = {\n",
    "    \"E01\": {\"name\": \"Alice\", \"role\": \"Developer\", \"salary\": 60000},\n",
    "    \"E02\": {\"name\": \"Bob\", \"role\": \"Manager\", \"salary\": 80000},\n",
    "}\n",
    "\n",
    "hike_rules = {\n",
    "    \"Developer\": 0.10,\n",
    "    \"Manager\": 0.15\n",
    "}\n",
    "\n",
    "Expected Output:\n",
    "{'E01': 66000.0, 'E02': 92000.0}"
   ]
  },
  {
   "cell_type": "code",
   "execution_count": 17,
   "id": "136e8410",
   "metadata": {},
   "outputs": [
    {
     "name": "stdout",
     "output_type": "stream",
     "text": [
      "Expected Output: {'E01': 66000.0, 'E02': 92000.0}\n"
     ]
    }
   ],
   "source": [
    "# Your code here\n",
    "employees = { \"E01\": {\"name\": \"Alice\", \"role\": \"Developer\", \"salary\": 60000}, \"E02\": {\"name\": \"Bob\", \"role\": \"Manager\", \"salary\": 80000}, }\n",
    "hike_rules = {\"Developer\":0.10, \"Manager\":0.15}\n",
    "\n",
    "updated_salaries = {}\n",
    "\n",
    "for i in employees:\n",
    "    role = employees[i][\"role\"]\n",
    "    salary = employees[i][\"salary\"]\n",
    "    hike = hike_rules.get(role,0)\n",
    "\n",
    "    new_salary = salary+(salary*hike)\n",
    "\n",
    "    # if new_salary <= 70000:\n",
    "    updated_salaries[i] = new_salary\n",
    "\n",
    "print(\"Expected Output:\",updated_salaries)\n",
    "        "
   ]
  },
  {
   "cell_type": "markdown",
   "id": "c712a455",
   "metadata": {},
   "source": [
    "## Duplicate Email Detector"
   ]
  },
  {
   "cell_type": "markdown",
   "id": "a5f964ce",
   "metadata": {},
   "source": [
    "Detect and report duplicate email addresses in a company system.\n",
    "\n",
    "Data:\n",
    "- A list of email addresses.\n",
    "\n",
    "Tasks:\n",
    "- Identify duplicates.\n",
    "- Count unique vs duplicate emails.\n",
    "- Return a dictionary with 'unique' and 'duplicates' as keys.\n",
    "\n",
    "Sample Input:\n",
    "emails = [\n",
    "    \"john.doe@example.com\", \"jane@sample.com\", \"john.doe@example.com\",\n",
    "    \"admin@example.com\", \"jane@sample.com\"\n",
    "]\n",
    "\n",
    "Expected Output:\n",
    "{\n",
    "    'unique': ['john.doe@example.com', 'jane@sample.com', 'admin@example.com'],\n",
    "    'duplicates': ['john.doe@example.com', 'jane@sample.com']\n",
    "}"
   ]
  },
  {
   "cell_type": "code",
   "execution_count": 24,
   "id": "0a3bc579",
   "metadata": {},
   "outputs": [
    {
     "name": "stdout",
     "output_type": "stream",
     "text": [
      "Expected Output: {'unique': ['john.doe@example.com', 'jane@sample.com', 'admin@example.com'], 'duplicate': ['john.doe@example.com', 'jane@sample.com']}\n"
     ]
    }
   ],
   "source": [
    "# Your code here\n",
    "emails = [ \"john.doe@example.com\",\n",
    "          \"jane@sample.com\",\n",
    "          \"john.doe@example.com\", \n",
    "          \"admin@example.com\",\n",
    "          \"jane@sample.com\" ]\n",
    "unique = []\n",
    "duplicate = []\n",
    "\n",
    "for i in emails:\n",
    "    if i not in unique:\n",
    "        unique.append(i)\n",
    "    elif i not in duplicate:\n",
    "        duplicate.append(i)\n",
    "\n",
    "result = {\"unique\":unique,\n",
    "          \"duplicate\":duplicate}\n",
    "\n",
    "print(\"Expected Output:\",result)\n"
   ]
  },
  {
   "cell_type": "code",
   "execution_count": null,
   "id": "8b8d2206-6219-443f-bc6e-57f44ec7bc8a",
   "metadata": {},
   "outputs": [],
   "source": []
  }
 ],
 "metadata": {
  "kernelspec": {
   "display_name": "Python 3 (ipykernel)",
   "language": "python",
   "name": "python3"
  },
  "language_info": {
   "codemirror_mode": {
    "name": "ipython",
    "version": 3
   },
   "file_extension": ".py",
   "mimetype": "text/x-python",
   "name": "python",
   "nbconvert_exporter": "python",
   "pygments_lexer": "ipython3",
   "version": "3.12.4"
  }
 },
 "nbformat": 4,
 "nbformat_minor": 5
}
